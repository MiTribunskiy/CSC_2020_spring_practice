{
 "cells": [
  {
   "cell_type": "code",
   "execution_count": null,
   "metadata": {},
   "outputs": [],
   "source": [
    "# from matching import *\n",
    "# from metrics import *\n",
    "from search_engine import *\n",
    "from storage import *\n",
    "from visual import *\n",
    "\n",
    "import os\n",
    "import sys\n",
    "\n",
    "import pandas as pd\n",
    "pd.options.display.float_format = '{:,.4f}'.format"
   ]
  },
  {
   "cell_type": "code",
   "execution_count": null,
   "metadata": {},
   "outputs": [],
   "source": [
    "def reorder_identities(option_identities, limit=5):\n",
    "    '''\n",
    "    identities sorted by the position in GKGS results\n",
    "    '''\n",
    "    option_ids_reordered = {}\n",
    "    for key, identities in option_identities.items():\n",
    "        reordered_identities = [None] * len(identities)\n",
    "        section = len(identities) // limit\n",
    "        for i, val in enumerate(identities):\n",
    "            subarr_i, pos = divmod(i, limit * 2)\n",
    "            new_i = subarr_i * 2 + (pos & 1) + section * (pos // 2)\n",
    "            reordered_identities[new_i] = val\n",
    "        option_ids_reordered[key] = reordered_identities\n",
    "    return option_ids_reordered\n",
    "    "
   ]
  },
  {
   "cell_type": "code",
   "execution_count": null,
   "metadata": {},
   "outputs": [],
   "source": [
    "PATH_INPUT = 'input/'\n",
    "PATH_STORAGE = 'storage/'"
   ]
  },
  {
   "cell_type": "code",
   "execution_count": null,
   "metadata": {},
   "outputs": [],
   "source": [
    "queries = [\n",
    "    'company 1',\n",
    "    'company 2'\n",
    "]\n",
    "query_identities = Google.get_identities(queries, \n",
    "                                         extra_params={'types': 'Organization'})\n",
    "save_data(query_identities, os.path.join(PATH_STORAGE, 'query_identities'))"
   ]
  },
  {
   "cell_type": "code",
   "execution_count": null,
   "metadata": {},
   "outputs": [],
   "source": [
    "df = pd.read_csv(os.path.join(PATH_INPUT, 'input.csv'))"
   ]
  },
  {
   "cell_type": "code",
   "execution_count": null,
   "metadata": {},
   "outputs": [],
   "source": [
    "keys = list(map(str.lower, df['company_name']))\n",
    "labels = df['label']\n",
    "options = dict(zip(keys, labels))\n",
    "option_identities = Google.get_subarray_identities(options,\n",
    "                                                   extra_params={'limit':5, 'types': 'Organization'},\n",
    "                                                   extended=True)\n",
    "save_data(option_identities, os.path.join(PATH_STORAGE, 'option_identities'))"
   ]
  },
  {
   "cell_type": "code",
   "execution_count": null,
   "metadata": {},
   "outputs": [],
   "source": [
    "option_ids_reordered = reorder_identities(option_identities, limit=5)"
   ]
  },
  {
   "cell_type": "code",
   "execution_count": null,
   "metadata": {},
   "outputs": [],
   "source": [
    "print_results(queries=queries,\n",
    "              options=options,\n",
    "              match_func=FUZZY,\n",
    "              query_identities=query_identities, \n",
    "              option_identities=option_ids_reordered,\n",
    "              use_limit=5,\n",
    "              total_limit=5,\n",
    "              threshold=80, \n",
    "              show_extra=5, \n",
    "              method_name=None)"
   ]
  }
 ],
 "metadata": {
  "kernelspec": {
   "display_name": "Python 3",
   "language": "python",
   "name": "python3"
  },
  "language_info": {
   "codemirror_mode": {
    "name": "ipython",
    "version": 3
   },
   "file_extension": ".py",
   "mimetype": "text/x-python",
   "name": "python",
   "nbconvert_exporter": "python",
   "pygments_lexer": "ipython3",
   "version": "3.7.7"
  }
 },
 "nbformat": 4,
 "nbformat_minor": 4
}
